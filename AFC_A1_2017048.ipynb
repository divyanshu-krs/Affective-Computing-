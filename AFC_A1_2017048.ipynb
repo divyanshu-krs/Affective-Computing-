{
  "nbformat": 4,
  "nbformat_minor": 0,
  "metadata": {
    "colab": {
      "name": "AFC_A1_Final",
      "provenance": [],
      "collapsed_sections": [],
      "toc_visible": true
    },
    "kernelspec": {
      "name": "python3",
      "display_name": "Python 3"
    },
    "accelerator": "GPU"
  },
  "cells": [
    {
      "cell_type": "code",
      "metadata": {
        "id": "I60cRMu3oe3K",
        "colab_type": "code",
        "colab": {}
      },
      "source": [
        "!pip install -U -q PyDrive\n",
        "from pydrive.auth import GoogleAuth\n",
        "from pydrive.drive import GoogleDrive \n",
        "from google.colab import auth \n",
        "from oauth2client.client import GoogleCredentials"
      ],
      "execution_count": 0,
      "outputs": []
    },
    {
      "cell_type": "code",
      "metadata": {
        "id": "wI1jQHT488JK",
        "colab_type": "code",
        "colab": {}
      },
      "source": [
        "auth.authenticate_user()\n",
        "gauth = GoogleAuth()\n",
        "gauth.credentials = GoogleCredentials.get_application_default() \n",
        "drive = GoogleDrive(gauth)"
      ],
      "execution_count": 0,
      "outputs": []
    },
    {
      "cell_type": "code",
      "metadata": {
        "id": "C9-mPaodqsc9",
        "colab_type": "code",
        "colab": {
          "base_uri": "https://localhost:8080/",
          "height": 64
        },
        "outputId": "21c483a1-cf47-4016-caf0-f227fb482e8c"
      },
      "source": [
        "# Loading the Data\n",
        "# Reference : https://arxiv.org/pdf/1704.06756.pdf\n",
        "# https://medium.com/@rajath95/how-to-save-and-upload-deep-learning-machine-learning-models-in-google-colab-using-google-drive-eb2901937ae \n",
        "import pandas as pd\n",
        "import numpy as np\n",
        "import matplotlib.pyplot as plt\n",
        "from tensorflow.python.keras.layers import Dense,Conv2D,Flatten,MaxPooling2D,Dropout,Softmax\n",
        "from sklearn.model_selection import train_test_split\n",
        "from sklearn.metrics import classification_report\n",
        "from tensorflow.python.keras import Sequential\n",
        "from sklearn.metrics import confusion_matrix\n",
        "\n",
        "dataset = pd.read_csv('/content/drive/My Drive/AFCA1/train.csv')"
      ],
      "execution_count": 2,
      "outputs": [
        {
          "output_type": "display_data",
          "data": {
            "text/html": [
              "<p style=\"color: red;\">\n",
              "The default version of TensorFlow in Colab will soon switch to TensorFlow 2.x.<br>\n",
              "We recommend you <a href=\"https://www.tensorflow.org/guide/migrate\" target=\"_blank\">upgrade</a> now \n",
              "or ensure your notebook will continue to use TensorFlow 1.x via the <code>%tensorflow_version 1.x</code> magic:\n",
              "<a href=\"https://colab.research.google.com/notebooks/tensorflow_version.ipynb\" target=\"_blank\">more info</a>.</p>\n"
            ],
            "text/plain": [
              "<IPython.core.display.HTML object>"
            ]
          },
          "metadata": {
            "tags": []
          }
        }
      ]
    },
    {
      "cell_type": "code",
      "metadata": {
        "id": "9H6thZSlrQ8r",
        "colab_type": "code",
        "outputId": "03b97c0d-9922-40b4-a57f-1ae909013cef",
        "colab": {
          "base_uri": "https://localhost:8080/",
          "height": 34
        }
      },
      "source": [
        "# Reading the data\n",
        "\n",
        "img_dim_m = 48\n",
        "img_dim_n = 48\n",
        "X = [] # Pixel\n",
        "Y = [] # Labelled Emotion\n",
        "\n",
        "first_row = []\n",
        "for line in dataset:\n",
        "  first_row.append(line)\n",
        "\n",
        "Y.append(int(first_row[0]))\n",
        "X.append([int(pixel) for pixel in first_row[1].split()])\n",
        "\n",
        "for i in dataset.values:\n",
        "  Y.append(int(i[0]))\n",
        "  X.append([int(pixel) for pixel in i[1].split()])\n",
        "\n",
        "X = np.array(X) / 255.0\n",
        "Y = np.array(Y)\n",
        "\n",
        "a,b = X.shape\n",
        "X = X.reshape(a,img_dim_m,img_dim_n,1)\n",
        "\n",
        "# Array to store the number of each emotion\n",
        "count_emo = [0,0,0,0,0,0,0]\n",
        "for i in Y:\n",
        "  count_emo[i]+=1\n",
        "print(count_emo)  \n"
      ],
      "execution_count": 4,
      "outputs": [
        {
          "output_type": "stream",
          "text": [
            "[7586, 835, 7868, 13587, 9284, 6071, 9366]\n"
          ],
          "name": "stdout"
        }
      ]
    },
    {
      "cell_type": "code",
      "metadata": {
        "id": "CL_n-Dk9J7Tn",
        "colab_type": "code",
        "colab": {
          "base_uri": "https://localhost:8080/",
          "height": 34
        },
        "outputId": "f1d53c2c-3831-4475-953d-804d2c7026ca"
      },
      "source": [
        "print(sum(count_emo))"
      ],
      "execution_count": 62,
      "outputs": [
        {
          "output_type": "stream",
          "text": [
            "54597\n"
          ],
          "name": "stdout"
        }
      ]
    },
    {
      "cell_type": "markdown",
      "metadata": {
        "id": "-OGVCotxcnQw",
        "colab_type": "text"
      },
      "source": [
        "Scatter Plot for Class Imbalance"
      ]
    },
    {
      "cell_type": "code",
      "metadata": {
        "id": "mG39TUZxAYg0",
        "colab_type": "code",
        "colab": {
          "base_uri": "https://localhost:8080/",
          "height": 298
        },
        "outputId": "8455d5f0-3c52-419a-cc2a-46a1f6055d78"
      },
      "source": [
        "# Scatter Plot for Class Imbalance\n",
        "plt.scatter(labels, count_emo, label= \"stars\", color= \"green\", marker= \"*\", s=30) \n",
        "plt.title('Scatter Plot for Class Imbalance')\n",
        "plt.show"
      ],
      "execution_count": 6,
      "outputs": [
        {
          "output_type": "execute_result",
          "data": {
            "text/plain": [
              "<function matplotlib.pyplot.show>"
            ]
          },
          "metadata": {
            "tags": []
          },
          "execution_count": 6
        },
        {
          "output_type": "display_data",
          "data": {
            "image/png": "[encoded data removed]",
            "text/plain": [
              "<Figure size 432x288 with 1 Axes>"
            ]
          },
          "metadata": {
            "tags": []
          }
        }
      ]
    },
    {
      "cell_type": "markdown",
      "metadata": {
        "id": "HJXsH1nGc13s",
        "colab_type": "text"
      },
      "source": [
        "Train-Test Splitting"
      ]
    },
    {
      "cell_type": "code",
      "metadata": {
        "id": "v-lXRuupcyjq",
        "colab_type": "code",
        "colab": {
          "base_uri": "https://localhost:8080/",
          "height": 34
        },
        "outputId": "c0256821-9570-43d4-a996-afbe20fa3b6d"
      },
      "source": [
        "from keras.utils import to_categorical\n",
        "x_train,x_test,y_train,y_test = train_test_split(X,Y,test_size = 0.2, random_state = 42)\n",
        "\n",
        "y_test = to_categorical(y_test)\n",
        "y_train = to_categorical(y_train)"
      ],
      "execution_count": 5,
      "outputs": [
        {
          "output_type": "stream",
          "text": [
            "Using TensorFlow backend.\n"
          ],
          "name": "stderr"
        }
      ]
    },
    {
      "cell_type": "markdown",
      "metadata": {
        "id": "crsZviw5hyWa",
        "colab_type": "text"
      },
      "source": [
        "CNN (2-layer)"
      ]
    },
    {
      "cell_type": "code",
      "metadata": {
        "id": "RUpOqo4vcymp",
        "colab_type": "code",
        "colab": {}
      },
      "source": [
        ""
      ],
      "execution_count": 0,
      "outputs": []
    },
    {
      "cell_type": "code",
      "metadata": {
        "id": "IZv9Kwig2O_A",
        "colab_type": "code",
        "colab": {}
      },
      "source": [
        ""
      ],
      "execution_count": 0,
      "outputs": []
    },
    {
      "cell_type": "code",
      "metadata": {
        "id": "z2u4xG9tcysU",
        "colab_type": "code",
        "colab": {
          "base_uri": "https://localhost:8080/",
          "height": 746
        },
        "outputId": "d672faf0-b098-46e1-9464-31d19ec4c56d"
      },
      "source": [
        "model = Sequential()\n",
        "\n",
        "# 1st Convolution Layer\n",
        "model.add(Conv2D(64,kernel_size=3,activation='relu', input_shape=(img_dim_m, img_dim_n,1)))\n",
        "model.add(MaxPooling2D((2, 2)))\n",
        "\n",
        "# 2nd Convlution Layer\n",
        "model.add(Conv2D(128,kernel_size=5,activation='relu', ))\n",
        "model.add(MaxPooling2D((2, 2)))\n",
        "\n",
        "# Flatten and Dense\n",
        "model.add(Flatten())\n",
        "model.add(Dense(len(count_emo),activation='softmax'))\n",
        "\n",
        "\n",
        "model.compile(optimizer='adam',loss='binary_crossentropy',metrics=['accuracy'])\n",
        "model.fit(x_train,y_train,validation_data=(x_test,y_test),batch_size=100,epochs=20)\n",
        "\n",
        "score=model.evaluate(x_test,y_test,verbose=0)\n",
        "print(\"Test Accuracy:\",score[1]*100)"
      ],
      "execution_count": 9,
      "outputs": [
        {
          "output_type": "stream",
          "text": [
            "Train on 43677 samples, validate on 10920 samples\n",
            "Epoch 1/20\n",
            "43677/43677 [==============================] - 13s 300us/sample - loss: 0.3470 - acc: 0.8666 - val_loss: 0.3232 - val_acc: 0.8724\n",
            "Epoch 2/20\n",
            "43677/43677 [==============================] - 13s 293us/sample - loss: 0.3022 - acc: 0.8797 - val_loss: 0.2997 - val_acc: 0.8802\n",
            "Epoch 3/20\n",
            "43677/43677 [==============================] - 13s 293us/sample - loss: 0.2816 - acc: 0.8865 - val_loss: 0.2875 - val_acc: 0.8851\n",
            "Epoch 4/20\n",
            "43677/43677 [==============================] - 13s 289us/sample - loss: 0.2669 - acc: 0.8921 - val_loss: 0.2794 - val_acc: 0.8884\n",
            "Epoch 5/20\n",
            "43677/43677 [==============================] - 13s 291us/sample - loss: 0.2551 - acc: 0.8969 - val_loss: 0.2750 - val_acc: 0.8911\n",
            "Epoch 6/20\n",
            "43677/43677 [==============================] - 13s 292us/sample - loss: 0.2442 - acc: 0.9020 - val_loss: 0.2716 - val_acc: 0.8922\n",
            "Epoch 7/20\n",
            "43677/43677 [==============================] - 13s 289us/sample - loss: 0.2336 - acc: 0.9069 - val_loss: 0.2663 - val_acc: 0.8935\n",
            "Epoch 8/20\n",
            "43677/43677 [==============================] - 13s 291us/sample - loss: 0.2249 - acc: 0.9110 - val_loss: 0.2654 - val_acc: 0.8950\n",
            "Epoch 9/20\n",
            "43677/43677 [==============================] - 13s 288us/sample - loss: 0.2169 - acc: 0.9143 - val_loss: 0.2606 - val_acc: 0.8964\n",
            "Epoch 10/20\n",
            "43677/43677 [==============================] - 12s 285us/sample - loss: 0.2087 - acc: 0.9176 - val_loss: 0.2615 - val_acc: 0.8964\n",
            "Epoch 11/20\n",
            "43677/43677 [==============================] - 12s 284us/sample - loss: 0.2016 - acc: 0.9211 - val_loss: 0.2577 - val_acc: 0.8983\n",
            "Epoch 12/20\n",
            "43677/43677 [==============================] - 12s 282us/sample - loss: 0.1953 - acc: 0.9240 - val_loss: 0.2566 - val_acc: 0.8998\n",
            "Epoch 13/20\n",
            "43677/43677 [==============================] - 12s 282us/sample - loss: 0.1893 - acc: 0.9263 - val_loss: 0.2589 - val_acc: 0.8997\n",
            "Epoch 14/20\n",
            "43677/43677 [==============================] - 12s 280us/sample - loss: 0.1833 - acc: 0.9296 - val_loss: 0.2579 - val_acc: 0.9012\n",
            "Epoch 15/20\n",
            "43677/43677 [==============================] - 12s 280us/sample - loss: 0.1780 - acc: 0.9318 - val_loss: 0.2577 - val_acc: 0.9020\n",
            "Epoch 16/20\n",
            "43677/43677 [==============================] - 12s 280us/sample - loss: 0.1740 - acc: 0.9338 - val_loss: 0.2554 - val_acc: 0.9032\n",
            "Epoch 17/20\n",
            "43677/43677 [==============================] - 12s 280us/sample - loss: 0.1683 - acc: 0.9363 - val_loss: 0.2712 - val_acc: 0.9010\n",
            "Epoch 18/20\n",
            "43677/43677 [==============================] - 12s 281us/sample - loss: 0.1644 - acc: 0.9374 - val_loss: 0.2590 - val_acc: 0.9030\n",
            "Epoch 19/20\n",
            "43677/43677 [==============================] - 12s 280us/sample - loss: 0.1593 - acc: 0.9404 - val_loss: 0.2608 - val_acc: 0.9047\n",
            "Epoch 20/20\n",
            "43677/43677 [==============================] - 12s 281us/sample - loss: 0.1550 - acc: 0.9419 - val_loss: 0.2620 - val_acc: 0.9040\n",
            "Test Accuracy: 90.39642810821533\n"
          ],
          "name": "stdout"
        }
      ]
    },
    {
      "cell_type": "code",
      "metadata": {
        "id": "KxCdhj3nGcqb",
        "colab_type": "code",
        "colab": {
          "base_uri": "https://localhost:8080/",
          "height": 34
        },
        "outputId": "4cabd827-aa1d-46dc-f286-f1c524a1282b"
      },
      "source": [
        "print(\"Test Accuracy:\",score[1]*100)\n"
      ],
      "execution_count": 10,
      "outputs": [
        {
          "output_type": "stream",
          "text": [
            "Test Accuracy: 90.39642810821533\n"
          ],
          "name": "stdout"
        }
      ]
    },
    {
      "cell_type": "code",
      "metadata": {
        "id": "_yliB7hG2Qeb",
        "colab_type": "code",
        "colab": {
          "base_uri": "https://localhost:8080/",
          "height": 642
        },
        "outputId": "41ba239a-8bd3-4462-c3a3-336cb4a9b267"
      },
      "source": [
        "model.summary()\n",
        "m_history=model.history.history\n",
        "\n",
        "loss=m_history['val_loss']\n",
        "epochs=[i+1 for i in range(20)]\n",
        "\n",
        "plt.plot(epochs,loss)  \n",
        "plt.xlabel('Epoches')\n",
        "plt.ylabel('Entropy Loss')\n",
        "plt.title(\"Loss vs Epoch\")\n",
        "plt.show()"
      ],
      "execution_count": 12,
      "outputs": [
        {
          "output_type": "stream",
          "text": [
            "Model: \"sequential_3\"\n",
            "_________________________________________________________________\n",
            "Layer (type)                 Output Shape              Param #   \n",
            "=================================================================\n",
            "conv2d_6 (Conv2D)            (None, 46, 46, 64)        640       \n",
            "_________________________________________________________________\n",
            "max_pooling2d_6 (MaxPooling2 (None, 23, 23, 64)        0         \n",
            "_________________________________________________________________\n",
            "conv2d_7 (Conv2D)            (None, 19, 19, 128)       204928    \n",
            "_________________________________________________________________\n",
            "max_pooling2d_7 (MaxPooling2 (None, 9, 9, 128)         0         \n",
            "_________________________________________________________________\n",
            "flatten_3 (Flatten)          (None, 10368)             0         \n",
            "_________________________________________________________________\n",
            "dense_3 (Dense)              (None, 7)                 72583     \n",
            "=================================================================\n",
            "Total params: 278,151\n",
            "Trainable params: 278,151\n",
            "Non-trainable params: 0\n",
            "_________________________________________________________________\n"
          ],
          "name": "stdout"
        },
        {
          "output_type": "display_data",
          "data": {
            "image/png": "[encoded data removed]",
            "text/plain": [
              "<Figure size 432x288 with 1 Axes>"
            ]
          },
          "metadata": {
            "tags": []
          }
        }
      ]
    },
    {
      "cell_type": "code",
      "metadata": {
        "id": "EF5nKxhD2Qyo",
        "colab_type": "code",
        "colab": {
          "base_uri": "https://localhost:8080/",
          "height": 34
        },
        "outputId": "25ba39dd-efd3-473e-e088-a4182f38f96d"
      },
      "source": [
        "model.save('model.h5')\n",
        "model_file = drive.CreateFile({'title' : 'model.h5'})\n",
        "model_file.SetContentFile('model.h5')                       \n",
        "model_file.Upload()\n",
        "drive.CreateFile({'id': model_file.get('id')})"
      ],
      "execution_count": 19,
      "outputs": [
        {
          "output_type": "execute_result",
          "data": {
            "text/plain": [
              "GoogleDriveFile({'id': '13DM8WE7zV7O6Vs1Lh59Bk-m24vmTZNG0'})"
            ]
          },
          "metadata": {
            "tags": []
          },
          "execution_count": 19
        }
      ]
    }
  ]
}